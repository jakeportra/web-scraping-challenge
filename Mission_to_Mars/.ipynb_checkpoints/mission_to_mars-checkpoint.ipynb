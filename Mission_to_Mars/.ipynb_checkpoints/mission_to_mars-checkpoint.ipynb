{
 "cells": [
  {
   "cell_type": "code",
   "execution_count": null,
   "metadata": {},
   "outputs": [],
   "source": [
    "from splinter import Browser\n",
    "from bs4 import BeautifulSoup as bs\n",
    "import time\n",
    "import pandas as pd\n",
    "import re"
   ]
  },
  {
   "cell_type": "code",
   "execution_count": null,
   "metadata": {},
   "outputs": [],
   "source": [
    "# function for intializing browser\n",
    "def init_browser():\n",
    "    # your path may be different\n",
    "    executable_path = {\"executable_path\": \"C:\\\\bin\\chromedriver\"}\n",
    "    return Browser(\"chrome\", **executable_path, headless=False)"
   ]
  },
  {
   "cell_type": "code",
   "execution_count": null,
   "metadata": {},
   "outputs": [],
   "source": [
    "# function for creating soup\n",
    "def soupify(sleep_time):\n",
    "    # sleep_time is the number of seconds you want it to wait\n",
    "    browser.visit(url)\n",
    "    time.sleep(sleep_time)\n",
    "    html = browser.html\n",
    "    soup = bs(html, \"html.parser\")\n",
    "    return soup"
   ]
  },
  {
   "cell_type": "code",
   "execution_count": null,
   "metadata": {},
   "outputs": [],
   "source": [
    "# call function to initialize the browser\n",
    "browser = init_browser()"
   ]
  },
  {
   "cell_type": "code",
   "execution_count": null,
   "metadata": {},
   "outputs": [],
   "source": [
    "# visit and scrape mars.nasa.gov\n",
    "# set url\n",
    "url = \"https://mars.nasa.gov/news/?page=0&per_page=40&order=publish_date+desc%2Ccreated_at+desc&search=&category=19%2C165%2C184%2C204&blank_scope=Latest\"\n",
    "# soupify the webpage\n",
    "soup = soupify(2)\n",
    "\n",
    "# find the title and paragraph text of the first article\n",
    "news_title = soup.find_all(\"div\", \"content_title\")[1].text\n",
    "news_p = soup.find_all(\"div\", \"article_teaser_body\")[0].text"
   ]
  },
  {
   "cell_type": "code",
   "execution_count": null,
   "metadata": {},
   "outputs": [],
   "source": [
    "# visit and scrape jpl.nasa.gov\n",
    "# set url\n",
    "base_url = \"https://www.jpl.nasa.gov\"\n",
    "url = base_url + \"/spaceimages/?search=&category=Mars\" # separated url to make image path later\n",
    "# soupify the webpage\n",
    "soup = soupify(1)\n",
    "\n",
    "# find and print url of the featured image\n",
    "relative_image_path = soup.find(id='full_image')['data-fancybox-href']\n",
    "featured_image_url = base_url + relative_image_path"
   ]
  },
  {
   "cell_type": "code",
   "execution_count": null,
   "metadata": {},
   "outputs": [],
   "source": [
    "# visit and scrape twitter.com\n",
    "url = \"https://twitter.com/marswxreport?lang=en\"\n",
    "soup = soupify(3)\n",
    "\n",
    "# find the text of the latest tweet\n",
    "mars_weather = soup.find(text=re.compile(\"InSight sol\"))"
   ]
  },
  {
   "cell_type": "code",
   "execution_count": null,
   "metadata": {},
   "outputs": [],
   "source": [
    "# visit and scrape space-facts.com/mars\n",
    "url = \"https://space-facts.com/mars/\"\n",
    "\n",
    "# read in html tables\n",
    "tables = pd.read_html(url)\n",
    "# make the first table into a dataframe\n",
    "df = tables[0]\n",
    "# add column names\n",
    "df.columns = ['Statistic', 'Value']\n",
    "# convert df to html\n",
    "mars_planet_profile = df.to_html(index=False)"
   ]
  },
  {
   "cell_type": "code",
   "execution_count": null,
   "metadata": {},
   "outputs": [],
   "source": [
    "# visit and scrape astrogeology.usgs.gov\n",
    "base_url = \"https://astrogeology.usgs.gov\"\n",
    "url = base_url + \"/search/results?q=hemisphere+enhanced&k1=target&v1=Mars\"\n",
    "soup = soupify(2)\n",
    "\n",
    "# find the images of all 4 mars hemispheres\n",
    "# make a list for the relative link paths \n",
    "relative_links = []\n",
    "hemisphere_image_urls = []\n",
    "# find link for all four images\n",
    "relative_links.append(soup.find_all(\"a\", \"product-item\")[0][\"href\"])\n",
    "relative_links.append(soup.find_all(\"a\", \"product-item\")[2][\"href\"])\n",
    "relative_links.append(soup.find_all(\"a\", \"product-item\")[4][\"href\"])\n",
    "relative_links.append(soup.find_all(\"a\", \"product-item\")[6][\"href\"])\n",
    "\n",
    "for link in relative_links:\n",
    "    url = base_url + link\n",
    "    soup = soupify(1)\n",
    "    new_link = base_url + soup.find(\"img\", \"wide-image\")[\"src\"]\n",
    "    raw_title = soup.find(\"h2\", \"title\").text\n",
    "    title = raw_title.rsplit(' ', 1)[0]\n",
    "    link_dict = {\"title\": title, \"img_url\": new_link}\n",
    "    hemisphere_image_urls.append(link_dict)"
   ]
  },
  {
   "cell_type": "code",
   "execution_count": null,
   "metadata": {},
   "outputs": [],
   "source": [
    "# quit the browser\n",
    "browser.quit()"
   ]
  },
  {
   "cell_type": "code",
   "execution_count": null,
   "metadata": {},
   "outputs": [],
   "source": [
    "print(news_title)\n",
    "print(news_p)\n",
    "print(featured_image_url)\n",
    "print(mars_weather)\n",
    "print(mars_planet_profile)\n",
    "print(hemisphere_image_urls)"
   ]
  },
  {
   "cell_type": "code",
   "execution_count": null,
   "metadata": {},
   "outputs": [],
   "source": []
  }
 ],
 "metadata": {
  "file_extension": ".py",
  "kernelspec": {
   "display_name": "Python 3",
   "language": "python",
   "name": "python3"
  },
  "language_info": {
   "codemirror_mode": {
    "name": "ipython",
    "version": 3
   },
   "file_extension": ".py",
   "mimetype": "text/x-python",
   "name": "python",
   "nbconvert_exporter": "python",
   "pygments_lexer": "ipython3",
   "version": "3.6.9"
  },
  "mimetype": "text/x-python",
  "name": "python",
  "npconvert_exporter": "python",
  "pygments_lexer": "ipython3",
  "version": 3
 },
 "nbformat": 4,
 "nbformat_minor": 4
}
